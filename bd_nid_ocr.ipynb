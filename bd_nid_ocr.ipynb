{
  "cells": [
    {
      "cell_type": "markdown",
      "metadata": {
        "colab_type": "text",
        "id": "view-in-github"
      },
      "source": [
        "<a href=\"https://colab.research.google.com/github/Nur-Alam39/bd-nid-image-to-text/blob/main/bd_nid_ocr.ipynb\" target=\"_parent\"><img src=\"https://colab.research.google.com/assets/colab-badge.svg\" alt=\"Open In Colab\"/></a>"
      ]
    },
    {
      "cell_type": "code",
      "execution_count": null,
      "metadata": {
        "id": "R1TFEwBSKms9"
      },
      "outputs": [],
      "source": [
        "pip install easyocr"
      ]
    },
    {
      "cell_type": "code",
      "execution_count": 7,
      "metadata": {
        "colab": {
          "base_uri": "https://localhost:8080/"
        },
        "id": "IjkAbAV0JOLM",
        "outputId": "7ce72b1f-baa8-4cfc-de32-69d606d05106"
      },
      "outputs": [
        {
          "name": "stderr",
          "output_type": "stream",
          "text": [
            "CUDA not available - defaulting to CPU. Note: This module is much faster with a GPU.\n"
          ]
        },
        {
          "name": "stdout",
          "output_type": "stream",
          "text": [
            "গণপ্রজাতন্ত্রী বাংলাদেশ সরকার\n",
            "GovemaceLotithe People's Republic o1 Bangladesh\n",
            "জাতীয় পরিচয়পত্র\n",
            "National ID Card\n",
            "17[|84 1975\n",
            "রোমানী রহমান\n",
            "[dEe\n",
            "ROMANARAHHAN\n",
            "475\n",
            "সোহরাব উদ্দীন খান\n",
            "ফিরোজ্গা বেগম\n",
            "OatetolBL7\n",
            "12 May 1975\n",
            "যেপসT\n",
            "d৫Hগ\n",
            "৮10 149\n",
            "867 367 4936\n"
          ]
        }
      ],
      "source": [
        "import easyocr\n",
        "IMAGE_PATH = '/content/nid_1.jpg'\n",
        "\n",
        "reader = easyocr.Reader(['en', 'bn'], gpu = True)\n",
        "result = reader.readtext(IMAGE_PATH)\n",
        "result\n",
        "\n",
        "text = []\n",
        "f = open(\"nid.txt\", 'w')\n",
        "\n",
        "for detection in result:\n",
        "  text.append(detection[1])\n",
        "  f.write(i)\n",
        "  f.write('\\n')\n",
        "  print (detection[1])\n",
        "\n",
        "f.close()"
      ]
    }
  ],
  "metadata": {
    "colab": {
      "authorship_tag": "ABX9TyOokpbRDa1um8rxDVunW70I",
      "include_colab_link": true,
      "name": "bd nid ocr.ipynb",
      "provenance": []
    },
    "kernelspec": {
      "display_name": "Python 3",
      "name": "python3"
    },
    "language_info": {
      "name": "python"
    }
  },
  "nbformat": 4,
  "nbformat_minor": 0
}
